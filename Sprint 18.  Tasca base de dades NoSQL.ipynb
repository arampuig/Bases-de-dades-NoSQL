{
 "cells": [
  {
   "cell_type": "markdown",
   "metadata": {},
   "source": [
    "# Tasca base de dades NoSQL"
   ]
  },
  {
   "cell_type": "markdown",
   "metadata": {},
   "source": [
    "Descripció:  \n",
    "Comencem a familiaritzar-nos amb bases de dades NoSQL !!! Comencem amb uns quants exercicis bàsics"
   ]
  },
  {
   "cell_type": "markdown",
   "metadata": {},
   "source": [
    "Objectius:  \n",
    "- Utilitzar una base de dades MongoDB\n",
    "- Interconnectar la base de dades MongoDB amb Python."
   ]
  },
  {
   "cell_type": "markdown",
   "metadata": {},
   "source": [
    "### Nivell 1\n",
    "#### - Exercici 1\n",
    "Crea una base de dades NoSQL utilitzant MongoDB. Afegeix-li algunes dades d'exemple que et permetin comprovar que ets capaç de processar-ne la informació de manera bàsica."
   ]
  },
  {
   "cell_type": "markdown",
   "metadata": {},
   "source": [
    "#### - Exercici 2\n",
    "Connecta la base de dades NoSQL a Python utilitzant per exemple pymongo."
   ]
  },
  {
   "cell_type": "code",
   "execution_count": 64,
   "metadata": {
    "ExecuteTime": {
     "end_time": "2021-06-27T13:09:39.925787Z",
     "start_time": "2021-06-27T13:09:39.918809Z"
    }
   },
   "outputs": [
    {
     "name": "stderr",
     "output_type": "stream",
     "text": [
      "<ipython-input-64-6318dcb171c7>:6: FutureWarning: Passing a negative integer is deprecated in version 1.0 and will not be supported in future version. Instead, use None to not limit the column width.\n",
      "  pd.set_option('display.max_colwidth', -1)\n"
     ]
    }
   ],
   "source": [
    "import pandas as pd\n",
    "import pymongo\n",
    "pd.set_option('display.max_rows', None)\n",
    "pd.set_option('display.max_columns', None)\n",
    "pd.set_option('display.width', None)\n",
    "pd.set_option('display.max_colwidth', -1)"
   ]
  },
  {
   "cell_type": "markdown",
   "metadata": {},
   "source": [
    "Ens conectem a mongo:"
   ]
  },
  {
   "cell_type": "code",
   "execution_count": 2,
   "metadata": {
    "ExecuteTime": {
     "end_time": "2021-06-27T12:18:42.756451Z",
     "start_time": "2021-06-27T12:18:42.687444Z"
    }
   },
   "outputs": [],
   "source": [
    "myclient = pymongo.MongoClient(\"mongodb://localhost:27017/\")"
   ]
  },
  {
   "cell_type": "markdown",
   "metadata": {},
   "source": [
    "Mirem quines bases de dades tenim a MongoDB:"
   ]
  },
  {
   "cell_type": "code",
   "execution_count": 3,
   "metadata": {
    "ExecuteTime": {
     "end_time": "2021-06-27T12:18:42.788372Z",
     "start_time": "2021-06-27T12:18:42.766432Z"
    }
   },
   "outputs": [
    {
     "name": "stdout",
     "output_type": "stream",
     "text": [
      "['Sprint18', 'acme', 'admin', 'config', 'local', 'mydatabase']\n"
     ]
    }
   ],
   "source": [
    "print(myclient.list_database_names())"
   ]
  },
  {
   "cell_type": "markdown",
   "metadata": {},
   "source": [
    "Creem una database i una col·lecció:"
   ]
  },
  {
   "cell_type": "code",
   "execution_count": 5,
   "metadata": {
    "ExecuteTime": {
     "end_time": "2021-06-27T12:18:54.050521Z",
     "start_time": "2021-06-27T12:18:54.041554Z"
    }
   },
   "outputs": [],
   "source": [
    "mydb = myclient[\"mydatabase\"]"
   ]
  },
  {
   "cell_type": "code",
   "execution_count": 6,
   "metadata": {
    "ExecuteTime": {
     "end_time": "2021-06-27T12:18:54.378321Z",
     "start_time": "2021-06-27T12:18:54.372337Z"
    }
   },
   "outputs": [],
   "source": [
    "mycol = mydb[\"customers\"]"
   ]
  },
  {
   "cell_type": "code",
   "execution_count": 9,
   "metadata": {
    "ExecuteTime": {
     "end_time": "2021-06-27T12:19:19.819225Z",
     "start_time": "2021-06-27T12:19:19.800238Z"
    }
   },
   "outputs": [],
   "source": [
    "# mycol.drop()"
   ]
  },
  {
   "cell_type": "markdown",
   "metadata": {},
   "source": [
    "Provem d'afegir un sol registre, definim la id per defecte a 0:"
   ]
  },
  {
   "cell_type": "code",
   "execution_count": 10,
   "metadata": {
    "ExecuteTime": {
     "end_time": "2021-06-27T12:19:31.577812Z",
     "start_time": "2021-06-27T12:19:31.537920Z"
    }
   },
   "outputs": [],
   "source": [
    "mydict = {'_id': 0,\n",
    "'name': 'Pepe',\n",
    "'address': 'Gran Via 3'\n",
    "         }\n",
    "\n",
    "x = mycol.insert_one(mydict)"
   ]
  },
  {
   "cell_type": "markdown",
   "metadata": {},
   "source": [
    "I diferents 'documents' a l'hora:"
   ]
  },
  {
   "cell_type": "code",
   "execution_count": 11,
   "metadata": {
    "ExecuteTime": {
     "end_time": "2021-06-27T12:19:33.292597Z",
     "start_time": "2021-06-27T12:19:33.275641Z"
    }
   },
   "outputs": [],
   "source": [
    "mylist = [\n",
    "  { \"_id\": 1, \"name\": \"John\", \"address\": \"Highway 37\"},\n",
    "  { \"_id\": 2, \"name\": \"Peter\", \"address\": \"Lowstreet 27\"},\n",
    "  { \"_id\": 3, \"name\": \"Amy\", \"address\": \"Apple st 652\"},\n",
    "  { \"_id\": 4, \"name\": \"Hannah\", \"address\": \"Mountain 21\"},\n",
    "  { \"_id\": 5, \"name\": \"Michael\", \"address\": \"Valley 345\"},\n",
    "  { \"_id\": 6, \"name\": \"Sandy\", \"address\": \"Ocean blvd 2\"},\n",
    "  { \"_id\": 7, \"name\": \"Betty\", \"address\": \"Green Grass 1\"},\n",
    "  { \"_id\": 8, \"name\": \"Richard\", \"address\": \"Sky st 331\"},\n",
    "  { \"_id\": 9, \"name\": \"Susan\", \"address\": \"One way 98\"},\n",
    "  { \"_id\": 10, \"name\": \"Vicky\", \"address\": \"Yellow Garden 2\"},\n",
    "  { \"_id\": 11, \"name\": \"Ben\", \"address\": \"Park Lane 38\"},\n",
    "  { \"_id\": 12, \"name\": \"William\", \"address\": \"Central st 954\"},\n",
    "  { \"_id\": 13, \"name\": \"Chuck\", \"address\": \"Main Road 989\"},\n",
    "  { \"_id\": 14, \"name\": \"Viola\", \"address\": \"Sideway 1633\"}\n",
    "]\n",
    "x = mycol.insert_many(mylist)"
   ]
  },
  {
   "cell_type": "markdown",
   "metadata": {},
   "source": [
    "### Nivell 2\n",
    "#### - Exercici 1\n",
    "Carrega algunes consultes senzilles a un Pandas Dataframe. "
   ]
  },
  {
   "cell_type": "markdown",
   "metadata": {},
   "source": [
    "Provem de fer una consulta senzilla, agafem el primer document:"
   ]
  },
  {
   "cell_type": "code",
   "execution_count": 12,
   "metadata": {
    "ExecuteTime": {
     "end_time": "2021-06-27T12:19:35.242030Z",
     "start_time": "2021-06-27T12:19:35.223077Z"
    }
   },
   "outputs": [
    {
     "name": "stdout",
     "output_type": "stream",
     "text": [
      "{'_id': 0, 'name': 'Pepe', 'address': 'Gran Via 3'}\n"
     ]
    }
   ],
   "source": [
    "x = mycol.find_one()\n",
    "\n",
    "print(x)"
   ]
  },
  {
   "cell_type": "markdown",
   "metadata": {},
   "source": [
    "Agafem tots els registres mitjançant una iteració:"
   ]
  },
  {
   "cell_type": "code",
   "execution_count": 13,
   "metadata": {
    "ExecuteTime": {
     "end_time": "2021-06-27T12:19:35.992442Z",
     "start_time": "2021-06-27T12:19:35.982466Z"
    }
   },
   "outputs": [
    {
     "name": "stdout",
     "output_type": "stream",
     "text": [
      "{'_id': 0, 'name': 'Pepe', 'address': 'Gran Via 3'}\n",
      "{'_id': 1, 'name': 'John', 'address': 'Highway 37'}\n",
      "{'_id': 2, 'name': 'Peter', 'address': 'Lowstreet 27'}\n",
      "{'_id': 3, 'name': 'Amy', 'address': 'Apple st 652'}\n",
      "{'_id': 4, 'name': 'Hannah', 'address': 'Mountain 21'}\n",
      "{'_id': 5, 'name': 'Michael', 'address': 'Valley 345'}\n",
      "{'_id': 6, 'name': 'Sandy', 'address': 'Ocean blvd 2'}\n",
      "{'_id': 7, 'name': 'Betty', 'address': 'Green Grass 1'}\n",
      "{'_id': 8, 'name': 'Richard', 'address': 'Sky st 331'}\n",
      "{'_id': 9, 'name': 'Susan', 'address': 'One way 98'}\n",
      "{'_id': 10, 'name': 'Vicky', 'address': 'Yellow Garden 2'}\n",
      "{'_id': 11, 'name': 'Ben', 'address': 'Park Lane 38'}\n",
      "{'_id': 12, 'name': 'William', 'address': 'Central st 954'}\n",
      "{'_id': 13, 'name': 'Chuck', 'address': 'Main Road 989'}\n",
      "{'_id': 14, 'name': 'Viola', 'address': 'Sideway 1633'}\n"
     ]
    }
   ],
   "source": [
    "for x in mycol.find():\n",
    "    print(x)"
   ]
  },
  {
   "cell_type": "code",
   "execution_count": 14,
   "metadata": {
    "ExecuteTime": {
     "end_time": "2021-06-27T12:19:36.463354Z",
     "start_time": "2021-06-27T12:19:36.431443Z"
    }
   },
   "outputs": [
    {
     "name": "stdout",
     "output_type": "stream",
     "text": [
      "{'name': 'Pepe', 'address': 'Gran Via 3'}\n",
      "{'name': 'John', 'address': 'Highway 37'}\n",
      "{'name': 'Peter', 'address': 'Lowstreet 27'}\n",
      "{'name': 'Amy', 'address': 'Apple st 652'}\n",
      "{'name': 'Hannah', 'address': 'Mountain 21'}\n",
      "{'name': 'Michael', 'address': 'Valley 345'}\n",
      "{'name': 'Sandy', 'address': 'Ocean blvd 2'}\n",
      "{'name': 'Betty', 'address': 'Green Grass 1'}\n",
      "{'name': 'Richard', 'address': 'Sky st 331'}\n",
      "{'name': 'Susan', 'address': 'One way 98'}\n",
      "{'name': 'Vicky', 'address': 'Yellow Garden 2'}\n",
      "{'name': 'Ben', 'address': 'Park Lane 38'}\n",
      "{'name': 'William', 'address': 'Central st 954'}\n",
      "{'name': 'Chuck', 'address': 'Main Road 989'}\n",
      "{'name': 'Viola', 'address': 'Sideway 1633'}\n"
     ]
    }
   ],
   "source": [
    "for x in mycol.find({},{ \"_id\": 0, \"name\": 1, \"address\": 1 }):\n",
    "    print(x)"
   ]
  },
  {
   "cell_type": "code",
   "execution_count": 15,
   "metadata": {
    "ExecuteTime": {
     "end_time": "2021-06-27T12:19:36.919212Z",
     "start_time": "2021-06-27T12:19:36.884300Z"
    }
   },
   "outputs": [
    {
     "name": "stdout",
     "output_type": "stream",
     "text": [
      "{'name': 'Pepe'}\n",
      "{'name': 'John'}\n",
      "{'name': 'Peter'}\n",
      "{'name': 'Amy'}\n",
      "{'name': 'Hannah'}\n",
      "{'name': 'Michael'}\n",
      "{'name': 'Sandy'}\n",
      "{'name': 'Betty'}\n",
      "{'name': 'Richard'}\n",
      "{'name': 'Susan'}\n",
      "{'name': 'Vicky'}\n",
      "{'name': 'Ben'}\n",
      "{'name': 'William'}\n",
      "{'name': 'Chuck'}\n",
      "{'name': 'Viola'}\n"
     ]
    }
   ],
   "source": [
    "for x in mycol.find({},{ \"_id\": 0,\"address\": 0 }):\n",
    "    print(x)"
   ]
  },
  {
   "cell_type": "markdown",
   "metadata": {},
   "source": [
    "Passem a fer queries senzilles i emmagatzemar-les en un df:"
   ]
  },
  {
   "cell_type": "code",
   "execution_count": 16,
   "metadata": {
    "ExecuteTime": {
     "end_time": "2021-06-27T12:19:37.830907Z",
     "start_time": "2021-06-27T12:19:37.802990Z"
    }
   },
   "outputs": [],
   "source": [
    "mydb = myclient[\"mydatabase\"]\n",
    "mycol = mydb[\"customers\"]\n",
    "\n",
    "df = pd.DataFrame(list(mycol.find()))"
   ]
  },
  {
   "cell_type": "code",
   "execution_count": 17,
   "metadata": {
    "ExecuteTime": {
     "end_time": "2021-06-27T12:19:38.257402Z",
     "start_time": "2021-06-27T12:19:38.224487Z"
    }
   },
   "outputs": [
    {
     "data": {
      "text/html": [
       "<div>\n",
       "<style scoped>\n",
       "    .dataframe tbody tr th:only-of-type {\n",
       "        vertical-align: middle;\n",
       "    }\n",
       "\n",
       "    .dataframe tbody tr th {\n",
       "        vertical-align: top;\n",
       "    }\n",
       "\n",
       "    .dataframe thead th {\n",
       "        text-align: right;\n",
       "    }\n",
       "</style>\n",
       "<table border=\"1\" class=\"dataframe\">\n",
       "  <thead>\n",
       "    <tr style=\"text-align: right;\">\n",
       "      <th></th>\n",
       "      <th>_id</th>\n",
       "      <th>name</th>\n",
       "      <th>address</th>\n",
       "    </tr>\n",
       "  </thead>\n",
       "  <tbody>\n",
       "    <tr>\n",
       "      <th>0</th>\n",
       "      <td>0</td>\n",
       "      <td>Pepe</td>\n",
       "      <td>Gran Via 3</td>\n",
       "    </tr>\n",
       "    <tr>\n",
       "      <th>1</th>\n",
       "      <td>1</td>\n",
       "      <td>John</td>\n",
       "      <td>Highway 37</td>\n",
       "    </tr>\n",
       "    <tr>\n",
       "      <th>2</th>\n",
       "      <td>2</td>\n",
       "      <td>Peter</td>\n",
       "      <td>Lowstreet 27</td>\n",
       "    </tr>\n",
       "    <tr>\n",
       "      <th>3</th>\n",
       "      <td>3</td>\n",
       "      <td>Amy</td>\n",
       "      <td>Apple st 652</td>\n",
       "    </tr>\n",
       "    <tr>\n",
       "      <th>4</th>\n",
       "      <td>4</td>\n",
       "      <td>Hannah</td>\n",
       "      <td>Mountain 21</td>\n",
       "    </tr>\n",
       "    <tr>\n",
       "      <th>5</th>\n",
       "      <td>5</td>\n",
       "      <td>Michael</td>\n",
       "      <td>Valley 345</td>\n",
       "    </tr>\n",
       "    <tr>\n",
       "      <th>6</th>\n",
       "      <td>6</td>\n",
       "      <td>Sandy</td>\n",
       "      <td>Ocean blvd 2</td>\n",
       "    </tr>\n",
       "    <tr>\n",
       "      <th>7</th>\n",
       "      <td>7</td>\n",
       "      <td>Betty</td>\n",
       "      <td>Green Grass 1</td>\n",
       "    </tr>\n",
       "    <tr>\n",
       "      <th>8</th>\n",
       "      <td>8</td>\n",
       "      <td>Richard</td>\n",
       "      <td>Sky st 331</td>\n",
       "    </tr>\n",
       "    <tr>\n",
       "      <th>9</th>\n",
       "      <td>9</td>\n",
       "      <td>Susan</td>\n",
       "      <td>One way 98</td>\n",
       "    </tr>\n",
       "    <tr>\n",
       "      <th>10</th>\n",
       "      <td>10</td>\n",
       "      <td>Vicky</td>\n",
       "      <td>Yellow Garden 2</td>\n",
       "    </tr>\n",
       "    <tr>\n",
       "      <th>11</th>\n",
       "      <td>11</td>\n",
       "      <td>Ben</td>\n",
       "      <td>Park Lane 38</td>\n",
       "    </tr>\n",
       "    <tr>\n",
       "      <th>12</th>\n",
       "      <td>12</td>\n",
       "      <td>William</td>\n",
       "      <td>Central st 954</td>\n",
       "    </tr>\n",
       "    <tr>\n",
       "      <th>13</th>\n",
       "      <td>13</td>\n",
       "      <td>Chuck</td>\n",
       "      <td>Main Road 989</td>\n",
       "    </tr>\n",
       "    <tr>\n",
       "      <th>14</th>\n",
       "      <td>14</td>\n",
       "      <td>Viola</td>\n",
       "      <td>Sideway 1633</td>\n",
       "    </tr>\n",
       "  </tbody>\n",
       "</table>\n",
       "</div>"
      ],
      "text/plain": [
       "    _id     name          address\n",
       "0     0     Pepe       Gran Via 3\n",
       "1     1     John       Highway 37\n",
       "2     2    Peter     Lowstreet 27\n",
       "3     3      Amy     Apple st 652\n",
       "4     4   Hannah      Mountain 21\n",
       "5     5  Michael       Valley 345\n",
       "6     6    Sandy     Ocean blvd 2\n",
       "7     7    Betty    Green Grass 1\n",
       "8     8  Richard       Sky st 331\n",
       "9     9    Susan       One way 98\n",
       "10   10    Vicky  Yellow Garden 2\n",
       "11   11      Ben     Park Lane 38\n",
       "12   12  William   Central st 954\n",
       "13   13    Chuck    Main Road 989\n",
       "14   14    Viola     Sideway 1633"
      ]
     },
     "execution_count": 17,
     "metadata": {},
     "output_type": "execute_result"
    }
   ],
   "source": [
    "df"
   ]
  },
  {
   "cell_type": "code",
   "execution_count": 18,
   "metadata": {
    "ExecuteTime": {
     "end_time": "2021-06-27T12:19:38.778596Z",
     "start_time": "2021-06-27T12:19:38.747645Z"
    }
   },
   "outputs": [
    {
     "data": {
      "text/html": [
       "<div>\n",
       "<style scoped>\n",
       "    .dataframe tbody tr th:only-of-type {\n",
       "        vertical-align: middle;\n",
       "    }\n",
       "\n",
       "    .dataframe tbody tr th {\n",
       "        vertical-align: top;\n",
       "    }\n",
       "\n",
       "    .dataframe thead th {\n",
       "        text-align: right;\n",
       "    }\n",
       "</style>\n",
       "<table border=\"1\" class=\"dataframe\">\n",
       "  <thead>\n",
       "    <tr style=\"text-align: right;\">\n",
       "      <th></th>\n",
       "      <th>_id</th>\n",
       "      <th>name</th>\n",
       "      <th>address</th>\n",
       "    </tr>\n",
       "  </thead>\n",
       "  <tbody>\n",
       "    <tr>\n",
       "      <th>0</th>\n",
       "      <td>8</td>\n",
       "      <td>Richard</td>\n",
       "      <td>Sky st 331</td>\n",
       "    </tr>\n",
       "    <tr>\n",
       "      <th>1</th>\n",
       "      <td>14</td>\n",
       "      <td>Viola</td>\n",
       "      <td>Sideway 1633</td>\n",
       "    </tr>\n",
       "  </tbody>\n",
       "</table>\n",
       "</div>"
      ],
      "text/plain": [
       "   _id     name       address\n",
       "0    8  Richard    Sky st 331\n",
       "1   14    Viola  Sideway 1633"
      ]
     },
     "execution_count": 18,
     "metadata": {},
     "output_type": "execute_result"
    }
   ],
   "source": [
    "myquery = { \"address\": { \"$regex\": \"^S\" } }\n",
    "\n",
    "mydoc = mycol.find(myquery)\n",
    "\n",
    "df_list = []\n",
    "for x in mydoc:\n",
    "      df_list.append(x)\n",
    "        \n",
    "df1 = pd.DataFrame(df_list)\n",
    "df1"
   ]
  },
  {
   "cell_type": "code",
   "execution_count": 19,
   "metadata": {
    "ExecuteTime": {
     "end_time": "2021-06-27T12:19:39.217951Z",
     "start_time": "2021-06-27T12:19:39.184045Z"
    }
   },
   "outputs": [
    {
     "data": {
      "text/html": [
       "<div>\n",
       "<style scoped>\n",
       "    .dataframe tbody tr th:only-of-type {\n",
       "        vertical-align: middle;\n",
       "    }\n",
       "\n",
       "    .dataframe tbody tr th {\n",
       "        vertical-align: top;\n",
       "    }\n",
       "\n",
       "    .dataframe thead th {\n",
       "        text-align: right;\n",
       "    }\n",
       "</style>\n",
       "<table border=\"1\" class=\"dataframe\">\n",
       "  <thead>\n",
       "    <tr style=\"text-align: right;\">\n",
       "      <th></th>\n",
       "      <th>_id</th>\n",
       "      <th>name</th>\n",
       "      <th>address</th>\n",
       "    </tr>\n",
       "  </thead>\n",
       "  <tbody>\n",
       "    <tr>\n",
       "      <th>0</th>\n",
       "      <td>11</td>\n",
       "      <td>Ben</td>\n",
       "      <td>Park Lane 38</td>\n",
       "    </tr>\n",
       "  </tbody>\n",
       "</table>\n",
       "</div>"
      ],
      "text/plain": [
       "   _id name       address\n",
       "0   11  Ben  Park Lane 38"
      ]
     },
     "execution_count": 19,
     "metadata": {},
     "output_type": "execute_result"
    }
   ],
   "source": [
    "myquery = { \"address\": \"Park Lane 38\" }\n",
    "\n",
    "mydoc = mycol.find(myquery)\n",
    "\n",
    "df_list = []\n",
    "for x in mydoc:\n",
    "      df_list.append(x)\n",
    "        \n",
    "df2 = pd.DataFrame(df_list)\n",
    "df2"
   ]
  },
  {
   "cell_type": "code",
   "execution_count": 20,
   "metadata": {
    "ExecuteTime": {
     "end_time": "2021-06-27T12:19:39.644452Z",
     "start_time": "2021-06-27T12:19:39.600544Z"
    }
   },
   "outputs": [
    {
     "data": {
      "text/html": [
       "<div>\n",
       "<style scoped>\n",
       "    .dataframe tbody tr th:only-of-type {\n",
       "        vertical-align: middle;\n",
       "    }\n",
       "\n",
       "    .dataframe tbody tr th {\n",
       "        vertical-align: top;\n",
       "    }\n",
       "\n",
       "    .dataframe thead th {\n",
       "        text-align: right;\n",
       "    }\n",
       "</style>\n",
       "<table border=\"1\" class=\"dataframe\">\n",
       "  <thead>\n",
       "    <tr style=\"text-align: right;\">\n",
       "      <th></th>\n",
       "      <th>_id</th>\n",
       "      <th>name</th>\n",
       "      <th>address</th>\n",
       "    </tr>\n",
       "  </thead>\n",
       "  <tbody>\n",
       "    <tr>\n",
       "      <th>0</th>\n",
       "      <td>5</td>\n",
       "      <td>Michael</td>\n",
       "      <td>Valley 345</td>\n",
       "    </tr>\n",
       "    <tr>\n",
       "      <th>1</th>\n",
       "      <td>8</td>\n",
       "      <td>Richard</td>\n",
       "      <td>Sky st 331</td>\n",
       "    </tr>\n",
       "    <tr>\n",
       "      <th>2</th>\n",
       "      <td>10</td>\n",
       "      <td>Vicky</td>\n",
       "      <td>Yellow Garden 2</td>\n",
       "    </tr>\n",
       "    <tr>\n",
       "      <th>3</th>\n",
       "      <td>14</td>\n",
       "      <td>Viola</td>\n",
       "      <td>Sideway 1633</td>\n",
       "    </tr>\n",
       "  </tbody>\n",
       "</table>\n",
       "</div>"
      ],
      "text/plain": [
       "   _id     name          address\n",
       "0    5  Michael       Valley 345\n",
       "1    8  Richard       Sky st 331\n",
       "2   10    Vicky  Yellow Garden 2\n",
       "3   14    Viola     Sideway 1633"
      ]
     },
     "execution_count": 20,
     "metadata": {},
     "output_type": "execute_result"
    }
   ],
   "source": [
    "myquery = { \"address\": { \"$gt\": \"S\" } }\n",
    "\n",
    "mydoc = mycol.find(myquery)\n",
    "\n",
    "df_list = []\n",
    "for x in mydoc:\n",
    "      df_list.append(x)\n",
    "        \n",
    "df3 = pd.DataFrame(df_list)\n",
    "df3"
   ]
  },
  {
   "cell_type": "markdown",
   "metadata": {},
   "source": [
    "### Nivell 3\n",
    "#### - Exercici 1\n",
    "Genera un resum estadístic de la informació que conté la base de dades."
   ]
  },
  {
   "cell_type": "markdown",
   "metadata": {},
   "source": [
    "Agafem una de les bases de dades que recomana MongoDB per treballar: Airbnb, amb les dades de Barcelona actualitzades el 12 d'Abril del 2021; per aconseguir dades més significatives per l'anàlisis estadístic. Pujarem les dades utilitzades ('listing.csv') al repositori corresponent: https://github.com/arampuig/Bases-de-dades-NoSQL. Ens conectem i accedim a la base de dades i la col·lecció (que hem creat prèviament mitjançant el MongoDB shell i afegint les dades d'Airbnb a una col·lecció) i la passem a pandas dataframe:"
   ]
  },
  {
   "cell_type": "code",
   "execution_count": 21,
   "metadata": {
    "ExecuteTime": {
     "end_time": "2021-06-27T12:22:14.180452Z",
     "start_time": "2021-06-27T12:22:14.147506Z"
    },
    "scrolled": true
   },
   "outputs": [
    {
     "name": "stdout",
     "output_type": "stream",
     "text": [
      "['Sprint18', 'acme', 'admin', 'config', 'local', 'mydatabase']\n"
     ]
    }
   ],
   "source": [
    "myclient = pymongo.MongoClient(\"mongodb://localhost:27017/\")\n",
    "\n",
    "print(myclient.list_database_names())"
   ]
  },
  {
   "cell_type": "code",
   "execution_count": 22,
   "metadata": {
    "ExecuteTime": {
     "end_time": "2021-06-27T12:23:04.433301Z",
     "start_time": "2021-06-27T12:23:04.419335Z"
    }
   },
   "outputs": [],
   "source": [
    "mydb = myclient[\"Sprint18\"]"
   ]
  },
  {
   "cell_type": "code",
   "execution_count": 24,
   "metadata": {
    "ExecuteTime": {
     "end_time": "2021-06-27T12:23:54.155701Z",
     "start_time": "2021-06-27T12:23:54.136750Z"
    }
   },
   "outputs": [],
   "source": [
    "mycol = mydb[\"Airbnb\"]"
   ]
  },
  {
   "cell_type": "code",
   "execution_count": 50,
   "metadata": {
    "ExecuteTime": {
     "end_time": "2021-06-27T12:40:08.710819Z",
     "start_time": "2021-06-27T12:40:08.323269Z"
    }
   },
   "outputs": [],
   "source": [
    "df = pd.DataFrame(list(mycol.find()))"
   ]
  },
  {
   "cell_type": "code",
   "execution_count": 51,
   "metadata": {
    "ExecuteTime": {
     "end_time": "2021-06-27T12:40:08.913448Z",
     "start_time": "2021-06-27T12:40:08.859586Z"
    }
   },
   "outputs": [
    {
     "data": {
      "text/html": [
       "<div>\n",
       "<style scoped>\n",
       "    .dataframe tbody tr th:only-of-type {\n",
       "        vertical-align: middle;\n",
       "    }\n",
       "\n",
       "    .dataframe tbody tr th {\n",
       "        vertical-align: top;\n",
       "    }\n",
       "\n",
       "    .dataframe thead th {\n",
       "        text-align: right;\n",
       "    }\n",
       "</style>\n",
       "<table border=\"1\" class=\"dataframe\">\n",
       "  <thead>\n",
       "    <tr style=\"text-align: right;\">\n",
       "      <th></th>\n",
       "      <th>_id</th>\n",
       "      <th>id</th>\n",
       "      <th>name</th>\n",
       "      <th>host_id</th>\n",
       "      <th>host_name</th>\n",
       "      <th>neighbourhood_group</th>\n",
       "      <th>neighbourhood</th>\n",
       "      <th>latitude</th>\n",
       "      <th>longitude</th>\n",
       "      <th>room_type</th>\n",
       "      <th>price</th>\n",
       "      <th>minimum_nights</th>\n",
       "      <th>number_of_reviews</th>\n",
       "      <th>last_review</th>\n",
       "      <th>reviews_per_month</th>\n",
       "      <th>calculated_host_listings_count</th>\n",
       "      <th>availability_365</th>\n",
       "    </tr>\n",
       "  </thead>\n",
       "  <tbody>\n",
       "    <tr>\n",
       "      <th>0</th>\n",
       "      <td>60cf64d344639f2ca04a35a9</td>\n",
       "      <td>18674</td>\n",
       "      <td>Huge flat for 8 people close to Sagrada Familia</td>\n",
       "      <td>71615</td>\n",
       "      <td>Mireia And Maria</td>\n",
       "      <td>Eixample</td>\n",
       "      <td>la Sagrada Família</td>\n",
       "      <td>41.40556</td>\n",
       "      <td>2.17262</td>\n",
       "      <td>Entire home/apt</td>\n",
       "      <td>157</td>\n",
       "      <td>1</td>\n",
       "      <td>21</td>\n",
       "      <td>2019-11-01</td>\n",
       "      <td>0.22</td>\n",
       "      <td>21</td>\n",
       "      <td>27</td>\n",
       "    </tr>\n",
       "    <tr>\n",
       "      <th>1</th>\n",
       "      <td>60cf64d344639f2ca04a35aa</td>\n",
       "      <td>23197</td>\n",
       "      <td>Forum CCIB DeLuxe★Spacious &amp;Elegant ★Large Bal...</td>\n",
       "      <td>90417</td>\n",
       "      <td>Etain (Marnie)</td>\n",
       "      <td>Sant Martí</td>\n",
       "      <td>el Besòs i el Maresme</td>\n",
       "      <td>41.41291</td>\n",
       "      <td>2.22063</td>\n",
       "      <td>Entire home/apt</td>\n",
       "      <td>220</td>\n",
       "      <td>3</td>\n",
       "      <td>52</td>\n",
       "      <td>2019-12-15</td>\n",
       "      <td>0.42</td>\n",
       "      <td>2</td>\n",
       "      <td>359</td>\n",
       "    </tr>\n",
       "    <tr>\n",
       "      <th>2</th>\n",
       "      <td>60cf64d344639f2ca04a35ab</td>\n",
       "      <td>32711</td>\n",
       "      <td>Sagrada Familia area - Còrsega 1</td>\n",
       "      <td>135703</td>\n",
       "      <td>Nick</td>\n",
       "      <td>Gràcia</td>\n",
       "      <td>el Camp d'en Grassot i Gràcia Nova</td>\n",
       "      <td>41.40566</td>\n",
       "      <td>2.17015</td>\n",
       "      <td>Entire home/apt</td>\n",
       "      <td>144</td>\n",
       "      <td>2</td>\n",
       "      <td>63</td>\n",
       "      <td>2020-02-22</td>\n",
       "      <td>0.53</td>\n",
       "      <td>5</td>\n",
       "      <td>0</td>\n",
       "    </tr>\n",
       "    <tr>\n",
       "      <th>3</th>\n",
       "      <td>60cf64d344639f2ca04a35ac</td>\n",
       "      <td>34241</td>\n",
       "      <td>Private Double room - Plaza Real</td>\n",
       "      <td>73163</td>\n",
       "      <td>Andres</td>\n",
       "      <td>Ciutat Vella</td>\n",
       "      <td>el Barri Gòtic</td>\n",
       "      <td>41.38062</td>\n",
       "      <td>2.17517</td>\n",
       "      <td>Private room</td>\n",
       "      <td>50</td>\n",
       "      <td>30</td>\n",
       "      <td>8</td>\n",
       "      <td>2013-07-15</td>\n",
       "      <td>0.06</td>\n",
       "      <td>2</td>\n",
       "      <td>0</td>\n",
       "    </tr>\n",
       "    <tr>\n",
       "      <th>4</th>\n",
       "      <td>60cf64d344639f2ca04a35ad</td>\n",
       "      <td>34981</td>\n",
       "      <td>VIDRE HOME PLAZA REAL on LAS RAMBLAS</td>\n",
       "      <td>73163</td>\n",
       "      <td>Andres</td>\n",
       "      <td>Ciutat Vella</td>\n",
       "      <td>el Barri Gòtic</td>\n",
       "      <td>41.37978</td>\n",
       "      <td>2.17623</td>\n",
       "      <td>Entire home/apt</td>\n",
       "      <td>243</td>\n",
       "      <td>4</td>\n",
       "      <td>149</td>\n",
       "      <td>2020-03-11</td>\n",
       "      <td>1.16</td>\n",
       "      <td>2</td>\n",
       "      <td>114</td>\n",
       "    </tr>\n",
       "    <tr>\n",
       "      <th>...</th>\n",
       "      <td>...</td>\n",
       "      <td>...</td>\n",
       "      <td>...</td>\n",
       "      <td>...</td>\n",
       "      <td>...</td>\n",
       "      <td>...</td>\n",
       "      <td>...</td>\n",
       "      <td>...</td>\n",
       "      <td>...</td>\n",
       "      <td>...</td>\n",
       "      <td>...</td>\n",
       "      <td>...</td>\n",
       "      <td>...</td>\n",
       "      <td>...</td>\n",
       "      <td>...</td>\n",
       "      <td>...</td>\n",
       "      <td>...</td>\n",
       "    </tr>\n",
       "    <tr>\n",
       "      <th>18221</th>\n",
       "      <td>60cf64d444639f2ca04a7cd6</td>\n",
       "      <td>49155035</td>\n",
       "      <td>Habitación 2 con Terraza</td>\n",
       "      <td>64805231</td>\n",
       "      <td>Marc</td>\n",
       "      <td>Sants-Montjuïc</td>\n",
       "      <td>Sants</td>\n",
       "      <td>41.37949</td>\n",
       "      <td>2.13099</td>\n",
       "      <td>Private room</td>\n",
       "      <td>22</td>\n",
       "      <td>32</td>\n",
       "      <td>0</td>\n",
       "      <td>NaN</td>\n",
       "      <td>NaN</td>\n",
       "      <td>26</td>\n",
       "      <td>348</td>\n",
       "    </tr>\n",
       "    <tr>\n",
       "      <th>18222</th>\n",
       "      <td>60cf64d444639f2ca04a7cd7</td>\n",
       "      <td>49155115</td>\n",
       "      <td>Habitación 3 con Terraza</td>\n",
       "      <td>64805231</td>\n",
       "      <td>Marc</td>\n",
       "      <td>Sants-Montjuïc</td>\n",
       "      <td>Sants - Badal</td>\n",
       "      <td>41.37811</td>\n",
       "      <td>2.12925</td>\n",
       "      <td>Private room</td>\n",
       "      <td>22</td>\n",
       "      <td>32</td>\n",
       "      <td>0</td>\n",
       "      <td>NaN</td>\n",
       "      <td>NaN</td>\n",
       "      <td>26</td>\n",
       "      <td>348</td>\n",
       "    </tr>\n",
       "    <tr>\n",
       "      <th>18223</th>\n",
       "      <td>60cf64d444639f2ca04a7cd8</td>\n",
       "      <td>49155172</td>\n",
       "      <td>Habitación 4 con Terraza</td>\n",
       "      <td>64805231</td>\n",
       "      <td>Marc</td>\n",
       "      <td>Sants-Montjuïc</td>\n",
       "      <td>Sants</td>\n",
       "      <td>41.37998</td>\n",
       "      <td>2.13097</td>\n",
       "      <td>Private room</td>\n",
       "      <td>22</td>\n",
       "      <td>32</td>\n",
       "      <td>0</td>\n",
       "      <td>NaN</td>\n",
       "      <td>NaN</td>\n",
       "      <td>26</td>\n",
       "      <td>349</td>\n",
       "    </tr>\n",
       "    <tr>\n",
       "      <th>18224</th>\n",
       "      <td>60cf64d444639f2ca04a7cd9</td>\n",
       "      <td>49155456</td>\n",
       "      <td>Habitacion luninosa zona tranquila</td>\n",
       "      <td>8964574</td>\n",
       "      <td>Lourdes</td>\n",
       "      <td>Nou Barris</td>\n",
       "      <td>Ciutat Meridiana</td>\n",
       "      <td>41.46193</td>\n",
       "      <td>2.17569</td>\n",
       "      <td>Private room</td>\n",
       "      <td>18</td>\n",
       "      <td>30</td>\n",
       "      <td>0</td>\n",
       "      <td>NaN</td>\n",
       "      <td>NaN</td>\n",
       "      <td>3</td>\n",
       "      <td>107</td>\n",
       "    </tr>\n",
       "    <tr>\n",
       "      <th>18225</th>\n",
       "      <td>60cf64d444639f2ca04a7cda</td>\n",
       "      <td>49158347</td>\n",
       "      <td>BB- Bonito apartamento en casco antiguo</td>\n",
       "      <td>22076771</td>\n",
       "      <td>Luis</td>\n",
       "      <td>Ciutat Vella</td>\n",
       "      <td>el Barri Gòtic</td>\n",
       "      <td>41.38041</td>\n",
       "      <td>2.17913</td>\n",
       "      <td>Entire home/apt</td>\n",
       "      <td>50</td>\n",
       "      <td>30</td>\n",
       "      <td>0</td>\n",
       "      <td>NaN</td>\n",
       "      <td>NaN</td>\n",
       "      <td>21</td>\n",
       "      <td>365</td>\n",
       "    </tr>\n",
       "  </tbody>\n",
       "</table>\n",
       "<p>18226 rows × 17 columns</p>\n",
       "</div>"
      ],
      "text/plain": [
       "                            _id        id  \\\n",
       "0      60cf64d344639f2ca04a35a9     18674   \n",
       "1      60cf64d344639f2ca04a35aa     23197   \n",
       "2      60cf64d344639f2ca04a35ab     32711   \n",
       "3      60cf64d344639f2ca04a35ac     34241   \n",
       "4      60cf64d344639f2ca04a35ad     34981   \n",
       "...                         ...       ...   \n",
       "18221  60cf64d444639f2ca04a7cd6  49155035   \n",
       "18222  60cf64d444639f2ca04a7cd7  49155115   \n",
       "18223  60cf64d444639f2ca04a7cd8  49155172   \n",
       "18224  60cf64d444639f2ca04a7cd9  49155456   \n",
       "18225  60cf64d444639f2ca04a7cda  49158347   \n",
       "\n",
       "                                                    name   host_id  \\\n",
       "0        Huge flat for 8 people close to Sagrada Familia     71615   \n",
       "1      Forum CCIB DeLuxe★Spacious &Elegant ★Large Bal...     90417   \n",
       "2                       Sagrada Familia area - Còrsega 1    135703   \n",
       "3                       Private Double room - Plaza Real     73163   \n",
       "4                   VIDRE HOME PLAZA REAL on LAS RAMBLAS     73163   \n",
       "...                                                  ...       ...   \n",
       "18221                           Habitación 2 con Terraza  64805231   \n",
       "18222                           Habitación 3 con Terraza  64805231   \n",
       "18223                           Habitación 4 con Terraza  64805231   \n",
       "18224                 Habitacion luninosa zona tranquila   8964574   \n",
       "18225            BB- Bonito apartamento en casco antiguo  22076771   \n",
       "\n",
       "              host_name neighbourhood_group  \\\n",
       "0      Mireia And Maria            Eixample   \n",
       "1        Etain (Marnie)          Sant Martí   \n",
       "2                  Nick              Gràcia   \n",
       "3                Andres        Ciutat Vella   \n",
       "4                Andres        Ciutat Vella   \n",
       "...                 ...                 ...   \n",
       "18221              Marc      Sants-Montjuïc   \n",
       "18222              Marc      Sants-Montjuïc   \n",
       "18223              Marc      Sants-Montjuïc   \n",
       "18224           Lourdes          Nou Barris   \n",
       "18225              Luis        Ciutat Vella   \n",
       "\n",
       "                            neighbourhood  latitude longitude  \\\n",
       "0                      la Sagrada Família  41.40556   2.17262   \n",
       "1                   el Besòs i el Maresme  41.41291   2.22063   \n",
       "2      el Camp d'en Grassot i Gràcia Nova  41.40566   2.17015   \n",
       "3                          el Barri Gòtic  41.38062   2.17517   \n",
       "4                          el Barri Gòtic  41.37978   2.17623   \n",
       "...                                   ...       ...       ...   \n",
       "18221                               Sants  41.37949   2.13099   \n",
       "18222                       Sants - Badal  41.37811   2.12925   \n",
       "18223                               Sants  41.37998   2.13097   \n",
       "18224                    Ciutat Meridiana  41.46193   2.17569   \n",
       "18225                      el Barri Gòtic  41.38041   2.17913   \n",
       "\n",
       "             room_type price minimum_nights number_of_reviews last_review  \\\n",
       "0      Entire home/apt   157              1                21  2019-11-01   \n",
       "1      Entire home/apt   220              3                52  2019-12-15   \n",
       "2      Entire home/apt   144              2                63  2020-02-22   \n",
       "3         Private room    50             30                 8  2013-07-15   \n",
       "4      Entire home/apt   243              4               149  2020-03-11   \n",
       "...                ...   ...            ...               ...         ...   \n",
       "18221     Private room    22             32                 0         NaN   \n",
       "18222     Private room    22             32                 0         NaN   \n",
       "18223     Private room    22             32                 0         NaN   \n",
       "18224     Private room    18             30                 0         NaN   \n",
       "18225  Entire home/apt    50             30                 0         NaN   \n",
       "\n",
       "      reviews_per_month calculated_host_listings_count availability_365  \n",
       "0                  0.22                             21               27  \n",
       "1                  0.42                              2              359  \n",
       "2                  0.53                              5                0  \n",
       "3                  0.06                              2                0  \n",
       "4                  1.16                              2              114  \n",
       "...                 ...                            ...              ...  \n",
       "18221               NaN                             26              348  \n",
       "18222               NaN                             26              348  \n",
       "18223               NaN                             26              349  \n",
       "18224               NaN                              3              107  \n",
       "18225               NaN                             21              365  \n",
       "\n",
       "[18226 rows x 17 columns]"
      ]
     },
     "execution_count": 51,
     "metadata": {},
     "output_type": "execute_result"
    }
   ],
   "source": [
    "df"
   ]
  },
  {
   "cell_type": "code",
   "execution_count": 33,
   "metadata": {
    "ExecuteTime": {
     "end_time": "2021-06-27T12:27:54.416593Z",
     "start_time": "2021-06-27T12:27:54.337759Z"
    }
   },
   "outputs": [
    {
     "name": "stdout",
     "output_type": "stream",
     "text": [
      "<class 'pandas.core.frame.DataFrame'>\n",
      "RangeIndex: 18226 entries, 0 to 18225\n",
      "Data columns (total 17 columns):\n",
      " #   Column                          Non-Null Count  Dtype \n",
      "---  ------                          --------------  ----- \n",
      " 0   _id                             18226 non-null  object\n",
      " 1   id                              18226 non-null  object\n",
      " 2   name                            18215 non-null  object\n",
      " 3   host_id                         18226 non-null  object\n",
      " 4   host_name                       17687 non-null  object\n",
      " 5   neighbourhood_group             18226 non-null  object\n",
      " 6   neighbourhood                   18226 non-null  object\n",
      " 7   latitude                        18226 non-null  object\n",
      " 8   longitude                       18226 non-null  object\n",
      " 9   room_type                       18226 non-null  object\n",
      " 10  price                           18226 non-null  object\n",
      " 11  minimum_nights                  18226 non-null  object\n",
      " 12  number_of_reviews               18226 non-null  object\n",
      " 13  last_review                     12560 non-null  object\n",
      " 14  reviews_per_month               12560 non-null  object\n",
      " 15  calculated_host_listings_count  18226 non-null  object\n",
      " 16  availability_365                18226 non-null  object\n",
      "dtypes: object(17)\n",
      "memory usage: 2.4+ MB\n"
     ]
    }
   ],
   "source": [
    "df.info()"
   ]
  },
  {
   "cell_type": "code",
   "execution_count": 52,
   "metadata": {
    "ExecuteTime": {
     "end_time": "2021-06-27T12:40:12.479490Z",
     "start_time": "2021-06-27T12:40:12.468520Z"
    }
   },
   "outputs": [
    {
     "data": {
      "text/plain": [
       "Index(['_id', 'id', 'name', 'host_id', 'host_name', 'neighbourhood_group',\n",
       "       'neighbourhood', 'latitude', 'longitude', 'room_type', 'price',\n",
       "       'minimum_nights', 'number_of_reviews', 'last_review',\n",
       "       'reviews_per_month', 'calculated_host_listings_count',\n",
       "       'availability_365'],\n",
       "      dtype='object')"
      ]
     },
     "execution_count": 52,
     "metadata": {},
     "output_type": "execute_result"
    }
   ],
   "source": [
    "df.columns"
   ]
  },
  {
   "cell_type": "markdown",
   "metadata": {},
   "source": [
    "Passem les columnes que contenen informació numèrica més rellevant a numeric type per descriure-la estadísticament:"
   ]
  },
  {
   "cell_type": "code",
   "execution_count": 53,
   "metadata": {
    "ExecuteTime": {
     "end_time": "2021-06-27T12:40:15.444435Z",
     "start_time": "2021-06-27T12:40:15.270827Z"
    }
   },
   "outputs": [],
   "source": [
    " df[['price','minimum_nights', 'number_of_reviews','reviews_per_month', \n",
    "     'calculated_host_listings_count','availability_365']]= df[['price','minimum_nights', 'number_of_reviews',\n",
    "                                                                'reviews_per_month', 'calculated_host_listings_count',\n",
    "                                                                'availability_365']].apply(pd.to_numeric)"
   ]
  },
  {
   "cell_type": "code",
   "execution_count": 60,
   "metadata": {
    "ExecuteTime": {
     "end_time": "2021-06-27T12:42:31.224522Z",
     "start_time": "2021-06-27T12:42:31.202577Z"
    }
   },
   "outputs": [],
   "source": [
    "ind = df[df['price']==0].index"
   ]
  },
  {
   "cell_type": "markdown",
   "metadata": {},
   "source": [
    "Eliminem els registres en que el preu per nit és igual a 0:"
   ]
  },
  {
   "cell_type": "code",
   "execution_count": 62,
   "metadata": {
    "ExecuteTime": {
     "end_time": "2021-06-27T12:42:44.539599Z",
     "start_time": "2021-06-27T12:42:44.502661Z"
    }
   },
   "outputs": [],
   "source": [
    "df.drop(ind, inplace=True)"
   ]
  },
  {
   "cell_type": "code",
   "execution_count": 63,
   "metadata": {
    "ExecuteTime": {
     "end_time": "2021-06-27T12:43:04.827448Z",
     "start_time": "2021-06-27T12:43:04.781574Z"
    }
   },
   "outputs": [
    {
     "data": {
      "text/html": [
       "<div>\n",
       "<style scoped>\n",
       "    .dataframe tbody tr th:only-of-type {\n",
       "        vertical-align: middle;\n",
       "    }\n",
       "\n",
       "    .dataframe tbody tr th {\n",
       "        vertical-align: top;\n",
       "    }\n",
       "\n",
       "    .dataframe thead th {\n",
       "        text-align: right;\n",
       "    }\n",
       "</style>\n",
       "<table border=\"1\" class=\"dataframe\">\n",
       "  <thead>\n",
       "    <tr style=\"text-align: right;\">\n",
       "      <th></th>\n",
       "      <th>price</th>\n",
       "      <th>minimum_nights</th>\n",
       "      <th>number_of_reviews</th>\n",
       "      <th>reviews_per_month</th>\n",
       "      <th>calculated_host_listings_count</th>\n",
       "      <th>availability_365</th>\n",
       "    </tr>\n",
       "  </thead>\n",
       "  <tbody>\n",
       "    <tr>\n",
       "      <th>count</th>\n",
       "      <td>18221.000000</td>\n",
       "      <td>18221.000000</td>\n",
       "      <td>18221.000000</td>\n",
       "      <td>12560.000000</td>\n",
       "      <td>18221.000000</td>\n",
       "      <td>18221.000000</td>\n",
       "    </tr>\n",
       "    <tr>\n",
       "      <th>mean</th>\n",
       "      <td>110.422260</td>\n",
       "      <td>12.293233</td>\n",
       "      <td>31.580265</td>\n",
       "      <td>0.916842</td>\n",
       "      <td>15.666868</td>\n",
       "      <td>175.125954</td>\n",
       "    </tr>\n",
       "    <tr>\n",
       "      <th>std</th>\n",
       "      <td>429.124905</td>\n",
       "      <td>29.088617</td>\n",
       "      <td>63.903258</td>\n",
       "      <td>1.094043</td>\n",
       "      <td>30.702464</td>\n",
       "      <td>141.157873</td>\n",
       "    </tr>\n",
       "    <tr>\n",
       "      <th>min</th>\n",
       "      <td>8.000000</td>\n",
       "      <td>1.000000</td>\n",
       "      <td>0.000000</td>\n",
       "      <td>0.010000</td>\n",
       "      <td>1.000000</td>\n",
       "      <td>0.000000</td>\n",
       "    </tr>\n",
       "    <tr>\n",
       "      <th>25%</th>\n",
       "      <td>35.000000</td>\n",
       "      <td>1.000000</td>\n",
       "      <td>0.000000</td>\n",
       "      <td>0.140000</td>\n",
       "      <td>1.000000</td>\n",
       "      <td>2.000000</td>\n",
       "    </tr>\n",
       "    <tr>\n",
       "      <th>50%</th>\n",
       "      <td>55.000000</td>\n",
       "      <td>3.000000</td>\n",
       "      <td>3.000000</td>\n",
       "      <td>0.480000</td>\n",
       "      <td>3.000000</td>\n",
       "      <td>179.000000</td>\n",
       "    </tr>\n",
       "    <tr>\n",
       "      <th>75%</th>\n",
       "      <td>103.000000</td>\n",
       "      <td>30.000000</td>\n",
       "      <td>32.000000</td>\n",
       "      <td>1.340000</td>\n",
       "      <td>14.000000</td>\n",
       "      <td>318.000000</td>\n",
       "    </tr>\n",
       "    <tr>\n",
       "      <th>max</th>\n",
       "      <td>11500.000000</td>\n",
       "      <td>1124.000000</td>\n",
       "      <td>808.000000</td>\n",
       "      <td>14.070000</td>\n",
       "      <td>164.000000</td>\n",
       "      <td>365.000000</td>\n",
       "    </tr>\n",
       "  </tbody>\n",
       "</table>\n",
       "</div>"
      ],
      "text/plain": [
       "              price  minimum_nights  number_of_reviews  reviews_per_month  \\\n",
       "count  18221.000000    18221.000000       18221.000000       12560.000000   \n",
       "mean     110.422260       12.293233          31.580265           0.916842   \n",
       "std      429.124905       29.088617          63.903258           1.094043   \n",
       "min        8.000000        1.000000           0.000000           0.010000   \n",
       "25%       35.000000        1.000000           0.000000           0.140000   \n",
       "50%       55.000000        3.000000           3.000000           0.480000   \n",
       "75%      103.000000       30.000000          32.000000           1.340000   \n",
       "max    11500.000000     1124.000000         808.000000          14.070000   \n",
       "\n",
       "       calculated_host_listings_count  availability_365  \n",
       "count                    18221.000000      18221.000000  \n",
       "mean                        15.666868        175.125954  \n",
       "std                         30.702464        141.157873  \n",
       "min                          1.000000          0.000000  \n",
       "25%                          1.000000          2.000000  \n",
       "50%                          3.000000        179.000000  \n",
       "75%                         14.000000        318.000000  \n",
       "max                        164.000000        365.000000  "
      ]
     },
     "execution_count": 63,
     "metadata": {},
     "output_type": "execute_result"
    }
   ],
   "source": [
    "df.describe()"
   ]
  },
  {
   "cell_type": "markdown",
   "metadata": {},
   "source": [
    "CONCLUSIONS: \n",
    "- El preu mig per nit de l'oferta d'airbnb a Barcelona és de 110€, amb un mínim de 8€ i un màxim de 11500€. Tot i així observem que el 50è percentil es situa als 55€ i el 75è als 103€, donant-nos una idea més aproximada dels preus de la majoria d'habitacions.\n",
    "- La mitjana de minim nits de reserva són 1 amb un màxim de 1124, i una mitjana de 12, tot i que el 50è percentil se situa a 3 nits.\n",
    "- La mitjana de reviews per habitació són 31, amb un màxim de 808. El 50è percentil, però està a les 3 reviews u el 75è ja a les 32.\n",
    "- La mitjana de reviews per mes és de 0.9, amb un màxim de 14.\n",
    "- La mitjana de número d'inquilins acomulat per any és de 15.6, amb un mínim d'1 i màxim de 164. El 50è percentil està en 3 inquilins.\n",
    "- La mitjana de disponibilitat de dies per any està a 175 de 365 dies a l'any."
   ]
  },
  {
   "cell_type": "markdown",
   "metadata": {},
   "source": [
    "Mirem els value_counts de les columnes categòriques més rellevants:"
   ]
  },
  {
   "cell_type": "code",
   "execution_count": 29,
   "metadata": {
    "ExecuteTime": {
     "end_time": "2021-06-27T12:25:47.493819Z",
     "start_time": "2021-06-27T12:25:47.468848Z"
    }
   },
   "outputs": [
    {
     "data": {
      "text/plain": [
       "Eixample               6245\n",
       "Ciutat Vella           4191\n",
       "Sants-Montjuïc         2163\n",
       "Sant Martí             1827\n",
       "Gràcia                 1517\n",
       "Sarrià-Sant Gervasi     768\n",
       "Horta-Guinardó          592\n",
       "Les Corts               380\n",
       "Sant Andreu             286\n",
       "Nou Barris              257\n",
       "Name: neighbourhood_group, dtype: int64"
      ]
     },
     "execution_count": 29,
     "metadata": {},
     "output_type": "execute_result"
    }
   ],
   "source": [
    "df['neighbourhood_group'].value_counts()"
   ]
  },
  {
   "cell_type": "markdown",
   "metadata": {},
   "source": [
    "El districte amb més nombre d'habitacions d'Airbnb és l'Eixample (6245), seguida per Ciutat Vella (4191). Els districtes minoritatis son Nou Barris (257), seguit de Sant Andreu (286) i Les Corts (380)."
   ]
  },
  {
   "cell_type": "code",
   "execution_count": 65,
   "metadata": {
    "ExecuteTime": {
     "end_time": "2021-06-27T13:09:45.970835Z",
     "start_time": "2021-06-27T13:09:45.936925Z"
    },
    "collapsed": true
   },
   "outputs": [
    {
     "data": {
      "text/plain": [
       "la Dreta de l'Eixample                          2036\n",
       "el Raval                                        1412\n",
       "el Barri Gòtic                                  1231\n",
       "Sant Pere, Santa Caterina i la Ribera           1118\n",
       "la Sagrada Família                              1039\n",
       "l'Antiga Esquerra de l'Eixample                 984 \n",
       "el Poble Sec                                    962 \n",
       "la Vila de Gràcia                               951 \n",
       "Sant Antoni                                     928 \n",
       "la Nova Esquerra de l'Eixample                  744 \n",
       "el Fort Pienc                                   512 \n",
       "el Poblenou                                     429 \n",
       "la Barceloneta                                  429 \n",
       "Sants                                           409 \n",
       "Sant Gervasi - Galvany                          392 \n",
       "el Camp de l'Arpa del Clot                      329 \n",
       "el Camp d'en Grassot i Gràcia Nova              325 \n",
       "Hostafrancs                                     263 \n",
       "les Corts                                       229 \n",
       "el Putxet i el Farró                            225 \n",
       "el Parc i la Llacuna del Poblenou               216 \n",
       "Sants - Badal                                   208 \n",
       "Diagonal Mar i el Front Marítim del Poblenou    180 \n",
       "la Vila Olímpica del Poblenou                   173 \n",
       "el Baix Guinardó                                165 \n",
       "el Guinardó                                     164 \n",
       "el Besòs i el Maresme                           147 \n",
       "la Font de la Guatlla                           125 \n",
       "la Maternitat i Sant Ramon                      123 \n",
       "Vallcarca i els Penitents                       122 \n",
       "el Clot                                         118 \n",
       "el Carmel                                       104 \n",
       "la Bordeta                                      99  \n",
       "Provençals del Poblenou                         92  \n",
       "la Marina de Port                               90  \n",
       "la Salut                                        88  \n",
       "Sant Martí de Provençals                        85  \n",
       "Sant Andreu                                     69  \n",
       "la Sagrera                                      67  \n",
       "Navas                                           66  \n",
       "Vilapicina i la Torre Llobeta                   64  \n",
       "la Verneda i la Pau                             56  \n",
       "Sant Gervasi - la Bonanova                      52  \n",
       "el Congrés i els Indians                        52  \n",
       "Porta                                           46  \n",
       "Sarrià                                          36  \n",
       "Horta                                           35  \n",
       "el Turó de la Peira                             33  \n",
       "les Tres Torres                                 33  \n",
       "Can Baró                                        31  \n",
       "el Coll                                         31  \n",
       "Vallvidrera, el Tibidabo i les Planes           30  \n",
       "la Prosperitat                                  29  \n",
       "Pedralbes                                       28  \n",
       "la Teixonera                                    26  \n",
       "les Roquetes                                    23  \n",
       "Verdun                                          22  \n",
       "Montbau                                         22  \n",
       "Sant Genís dels Agudells                        20  \n",
       "el Bon Pastor                                   19  \n",
       "la Font d'en Fargues                            13  \n",
       "la Guineueta                                    12  \n",
       "la Trinitat Nova                                12  \n",
       "la Trinitat Vella                               12  \n",
       "la Vall d'Hebron                                10  \n",
       "la Marina del Prat Vermell                      7   \n",
       "Ciutat Meridiana                                6   \n",
       "Torre Baró                                      5   \n",
       "Can Peguera                                     3   \n",
       "Canyelles                                       2   \n",
       "la Clota                                        2   \n",
       "Baró de Viver                                   1   \n",
       "Name: neighbourhood, dtype: int64"
      ]
     },
     "execution_count": 65,
     "metadata": {},
     "output_type": "execute_result"
    }
   ],
   "source": [
    "df['neighbourhood'].value_counts()"
   ]
  },
  {
   "cell_type": "code",
   "execution_count": 66,
   "metadata": {
    "ExecuteTime": {
     "end_time": "2021-06-27T13:10:14.741139Z",
     "start_time": "2021-06-27T13:10:14.721193Z"
    }
   },
   "outputs": [
    {
     "data": {
      "text/plain": [
       "253.06944444444446"
      ]
     },
     "execution_count": 66,
     "metadata": {},
     "output_type": "execute_result"
    }
   ],
   "source": [
    "df['neighbourhood'].value_counts().mean()"
   ]
  },
  {
   "cell_type": "markdown",
   "metadata": {},
   "source": [
    "Entrant en barris més concretament veiem que els que tenen més habitacions són la Dreta de l'Eixample (2038), seguida del Raval (1412), el Barri Gòtic (1232), Sant Pere, Santa Caterina i la Ribera (1118) i la Sagrada Família (1039), barris clarament cèntrics i turístics.\n",
    "\n",
    "La mitjana d'habitacions per barri és de 253, així podem observar quins estan clarament per sobre i per sota aquesta línea divisòria."
   ]
  },
  {
   "cell_type": "code",
   "execution_count": 31,
   "metadata": {
    "ExecuteTime": {
     "end_time": "2021-06-27T12:27:09.030651Z",
     "start_time": "2021-06-27T12:27:09.000701Z"
    }
   },
   "outputs": [
    {
     "data": {
      "text/plain": [
       "Entire home/apt    9001\n",
       "Private room       8710\n",
       "Hotel room          283\n",
       "Shared room         232\n",
       "Name: room_type, dtype: int64"
      ]
     },
     "execution_count": 31,
     "metadata": {},
     "output_type": "execute_result"
    }
   ],
   "source": [
    "df['room_type'].value_counts()"
   ]
  },
  {
   "cell_type": "markdown",
   "metadata": {},
   "source": [
    "La gran majoria d'habitacions són o bé cases/apartaments sencers (9001) o bé habitacions privades (8710). Sent les habitacions d'hotel i les habitacions compartides molt més minoritàries (283 i 232, respectivament)."
   ]
  },
  {
   "cell_type": "code",
   "execution_count": null,
   "metadata": {},
   "outputs": [],
   "source": []
  }
 ],
 "metadata": {
  "kernelspec": {
   "display_name": "Python 3",
   "language": "python",
   "name": "python3"
  },
  "language_info": {
   "codemirror_mode": {
    "name": "ipython",
    "version": 3
   },
   "file_extension": ".py",
   "mimetype": "text/x-python",
   "name": "python",
   "nbconvert_exporter": "python",
   "pygments_lexer": "ipython3",
   "version": "3.8.8"
  }
 },
 "nbformat": 4,
 "nbformat_minor": 4
}
